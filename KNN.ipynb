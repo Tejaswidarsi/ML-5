{
  "nbformat": 4,
  "nbformat_minor": 0,
  "metadata": {
    "colab": {
      "provenance": [],
      "authorship_tag": "ABX9TyMpBqwR4mGYKC32i5eZkJvg",
      "include_colab_link": true
    },
    "kernelspec": {
      "name": "python3",
      "display_name": "Python 3"
    },
    "language_info": {
      "name": "python"
    }
  },
  "cells": [
    {
      "cell_type": "markdown",
      "metadata": {
        "id": "view-in-github",
        "colab_type": "text"
      },
      "source": [
        "<a href=\"https://colab.research.google.com/github/Tejaswidarsi/ML-5/blob/main/KNN.ipynb\" target=\"_parent\"><img src=\"https://colab.research.google.com/assets/colab-badge.svg\" alt=\"Open In Colab\"/></a>"
      ]
    },
    {
      "cell_type": "markdown",
      "source": [
        "###Imported Required Libraries"
      ],
      "metadata": {
        "id": "HsH0inVhZYco"
      }
    },
    {
      "cell_type": "code",
      "execution_count": 91,
      "metadata": {
        "id": "Lg_2Iv5IVyYe"
      },
      "outputs": [],
      "source": [
        "import csv\n",
        "import math\n",
        "import random\n",
        "import numpy as np\n",
        "import matplotlib.pyplot as plt\n",
        "from collections import Counter\n"
      ]
    },
    {
      "cell_type": "markdown",
      "source": [
        "###a. Load the Dataset"
      ],
      "metadata": {
        "id": "jdrbTl2CZfmT"
      }
    },
    {
      "cell_type": "code",
      "source": [
        "def load_iris_data():\n",
        "    data = []\n",
        "    with open('/content/iris (1).csv', 'r') as file:\n",
        "        reader = csv.reader(file)\n",
        "        next(reader)  # Skip the header\n",
        "        for row in reader:\n",
        "            features = list(map(float, row[:-1]))\n",
        "            label = row[-1]\n",
        "            data.append((features, label))\n",
        "    return data"
      ],
      "metadata": {
        "id": "Pt9q4tzvY-Oa"
      },
      "execution_count": 102,
      "outputs": []
    },
    {
      "cell_type": "markdown",
      "source": [
        "###b.Split the dataset into training and testing sets"
      ],
      "metadata": {
        "id": "fONV9w7gZz3u"
      }
    },
    {
      "cell_type": "code",
      "source": [
        "def split_dataset(data, test_size=0.3):\n",
        "    random.shuffle(data)\n",
        "    split_idx = int(len(data) * (1 - test_size))\n",
        "    train_data = data[:split_idx]\n",
        "    test_data = data[split_idx:]\n",
        "    return train_data, test_data"
      ],
      "metadata": {
        "id": "IC7U6uDucGNA"
      },
      "execution_count": 94,
      "outputs": []
    },
    {
      "cell_type": "markdown",
      "source": [
        "**# 3. Calculate Euclidean distance**"
      ],
      "metadata": {
        "id": "QzRQaNXfckxJ"
      }
    },
    {
      "cell_type": "code",
      "source": [
        "def euclidean_distance(point1, point2):\n",
        "    return math.sqrt(sum((p1 - p2) ** 2 for p1, p2 in zip(point1, point2)))"
      ],
      "metadata": {
        "id": "YipYGlqRZZGc"
      },
      "execution_count": 95,
      "outputs": []
    },
    {
      "cell_type": "code",
      "source": [
        "#Predicting the test set result\n",
        "y_pred= classifier.predict(x_test)"
      ],
      "metadata": {
        "id": "ti7Ob3gUZdBS"
      },
      "execution_count": 69,
      "outputs": []
    },
    {
      "cell_type": "markdown",
      "source": [
        "## Evaluating the KNN Model with Different Values of k\n",
        "\n",
        "\n",
        "c. Test your model using test set. Find accuracy and confusion Matrix."
      ],
      "metadata": {
        "id": "4pacADQ3eRSj"
      }
    },
    {
      "cell_type": "code",
      "source": [
        "def knn(train_data, test_point, k):\n",
        "    # Calculate distance between test_point and all training data\n",
        "    distances = [(euclidean_distance(test_point[0], train_point[0]), train_point[1]) for train_point in train_data]\n",
        "    distances.sort(key=lambda x: x[0])  # Sort by distance\n",
        "    # Get the labels of the K-nearest neighbors\n",
        "    neighbors = [distances[i][1] for i in range(k)]\n",
        "    # Return the most common class label among neighbors\n",
        "    return Counter(neighbors).most_common(1)[0][0]"
      ],
      "metadata": {
        "id": "ipk6YhN7aonf"
      },
      "execution_count": 96,
      "outputs": []
    },
    {
      "cell_type": "markdown",
      "source": [
        "For each test point, it:\n",
        "Predicts its label using the K-NN algorithm.\n",
        "Compares it to the actual label.\n",
        "Updates the confusion matrix and correct count accordingly.\n",
        "Returns:\n",
        "Accuracy: Ratio of correctly classified points to the total test set.\n",
        "Confusion matrix: Tracks actual vs. predicted labels.\n",
        "Labels: Unique labels used for confusion matrix organization."
      ],
      "metadata": {
        "id": "DNBaxThYlosy"
      }
    },
    {
      "cell_type": "code",
      "source": [
        "def accuracy_and_confusion_matrix(train_data, test_data, k):\n",
        "    correct = 0\n",
        "    confusion_matrix = Counter()\n",
        "    labels = sorted(set([sample[1] for sample in train_data]))\n",
        "    for test_point in test_data:\n",
        "        predicted_label = knn(train_data, test_point, k)\n",
        "        actual_label = test_point[1]\n",
        "        if predicted_label == actual_label:\n",
        "            correct += 1\n",
        "        confusion_matrix[(actual_label, predicted_label)] += 1\n",
        "    accuracy = correct / len(test_data)\n",
        "    return accuracy, confusion_matrix, labels"
      ],
      "metadata": {
        "id": "6qF_zldyZhtV"
      },
      "execution_count": 97,
      "outputs": []
    },
    {
      "cell_type": "code",
      "source": [
        "def evaluate_k(train_data, test_data, max_k=10):\n",
        "    accuracies = []\n",
        "    for k in range(1, max_k+1):\n",
        "        accuracy, _, _ = accuracy_and_confusion_matrix(train_data, test_data, k)\n",
        "        accuracies.append((k, accuracy))\n",
        "    return accuracies"
      ],
      "metadata": {
        "id": "FfJ38qCmkQdE"
      },
      "execution_count": 98,
      "outputs": []
    },
    {
      "cell_type": "markdown",
      "source": [
        "###d. Examining the effect of the value of K on accuracy\n",
        "k_values = range(1, 21)"
      ],
      "metadata": {
        "id": "i2lJuiZHbNRV"
      }
    },
    {
      "cell_type": "markdown",
      "source": [
        "###Plotting the curve: K vs Accuracy"
      ],
      "metadata": {
        "id": "9J0ruOu3bUAi"
      }
    },
    {
      "cell_type": "code",
      "source": [
        "def plot_k_vs_accuracy(accuracies):\n",
        "    k_values = [k for k, _ in accuracies]\n",
        "    acc_values = [acc for _, acc in accuracies]\n",
        "    plt.plot(k_values, acc_values, marker='o')\n",
        "    plt.title('K vs Accuracy')\n",
        "    plt.xlabel('K')\n",
        "    plt.ylabel('Accuracy')\n",
        "    plt.grid(True)\n",
        "    plt.show()"
      ],
      "metadata": {
        "id": "LhjYLQ5dqqhR"
      },
      "execution_count": 99,
      "outputs": []
    },
    {
      "cell_type": "markdown",
      "source": [
        "The code starts by loading the Iris dataset and splitting it into a training set and a testing set, with 70% for training and 30% for testing. It then uses the K-NN classifier to predict labels for the test set with K=3 and calculates the accuracy. The confusion matrix is printed, showing the comparison between the actual and predicted labels for the test set. Finally, the results display both the accuracy percentage and the organized confusion matrix."
      ],
      "metadata": {
        "id": "KqaTfikUmEoj"
      }
    },
    {
      "cell_type": "code",
      "source": [
        "if __name__ == \"__main__\":\n",
        "    # Load dataset\n",
        "    data = load_iris_data()\n",
        "\n",
        "    # Split dataset into 70% train and 30% test\n",
        "    train_data, test_data = split_dataset(data, test_size=0.3)\n",
        "\n",
        "    # Test for K=3\n",
        "    k = 3\n",
        "    accuracy, confusion_matrix, labels = accuracy_and_confusion_matrix(train_data, test_data, k)\n",
        "\n",
        "    print(f\"Accuracy for K={k}: {accuracy * 100:.2f}%\")\n",
        "    print(\"\\nConfusion Matrix:\")\n",
        "    print(f\"{' ':<12}{'Predicted':<12}\")\n",
        "    for actual in labels:\n",
        "        row = f\"{actual:<12}\"\n",
        "        for predicted in labels:\n",
        "            row += f\"{confusion_matrix[(actual, predicted)]:<12}\"\n",
        "        print(row)\n"
      ],
      "metadata": {
        "colab": {
          "base_uri": "https://localhost:8080/"
        },
        "id": "NZ0P2gzQkXsf",
        "outputId": "6ab3eeab-863e-4aac-f54a-7fbf7aea931e"
      },
      "execution_count": 103,
      "outputs": [
        {
          "output_type": "stream",
          "name": "stdout",
          "text": [
            "Accuracy for K=3: 97.78%\n",
            "\n",
            "Confusion Matrix:\n",
            "            Predicted   \n",
            "setosa      8           0           0           \n",
            "versicolor  0           22          0           \n",
            "virginica   0           1           14          \n"
          ]
        }
      ]
    },
    {
      "cell_type": "markdown",
      "source": [
        "###Finding the value of K with the maximum accuracy\n"
      ],
      "metadata": {
        "id": "RRdHDlnkbYTT"
      }
    },
    {
      "cell_type": "code",
      "source": [
        "accuracies = evaluate_k(train_data, test_data, max_k=10)\n",
        "\n",
        "    # Plot K vs Accuracy\n",
        "\n",
        "plot_k_vs_accuracy(accuracies)\n",
        "\n",
        "    # Find the best K value for maximum accuracy\n",
        "best_k, best_acc = max(accuracies, key=lambda x: x[1])\n",
        "print(f\"\\nBest K: {best_k} with Accuracy: {best_acc * 100:.2f}%\")"
      ],
      "metadata": {
        "colab": {
          "base_uri": "https://localhost:8080/",
          "height": 507
        },
        "id": "eUHfXh7Xq7o0",
        "outputId": "10b62107-7fb1-4a3e-9623-53ca2fd1fed3"
      },
      "execution_count": 105,
      "outputs": [
        {
          "output_type": "display_data",
          "data": {
            "text/plain": [
              "<Figure size 640x480 with 1 Axes>"
            ],
            "image/png": "[encoded data removed]"
          },
          "metadata": {}
        },
        {
          "output_type": "stream",
          "name": "stdout",
          "text": [
            "\n",
            "Best K: 3 with Accuracy: 97.78%\n"
          ]
        }
      ]
    }
  ]
}